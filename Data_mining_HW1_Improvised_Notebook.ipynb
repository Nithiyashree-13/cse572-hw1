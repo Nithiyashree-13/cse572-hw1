{
  "nbformat": 4,
  "nbformat_minor": 0,
  "metadata": {
    "colab": {
      "provenance": []
    },
    "kernelspec": {
      "name": "python3",
      "display_name": "Python 3"
    },
    "language_info": {
      "name": "python"
    }
  },
  "cells": [
    {
      "cell_type": "code",
      "source": [
        "import pandas as pd\n",
        "import numpy as np\n",
        "from sklearn.model_selection import cross_val_score, StratifiedKFold\n",
        "from sklearn.preprocessing import StandardScaler, OneHotEncoder\n",
        "from sklearn.impute import KNNImputer\n",
        "from sklearn.pipeline import Pipeline\n",
        "from sklearn.compose import ColumnTransformer\n",
        "from sklearn.linear_model import LogisticRegression, Perceptron, SGDClassifier\n",
        "from sklearn.naive_bayes import GaussianNB\n",
        "from sklearn.neighbors import KNeighborsClassifier\n",
        "from sklearn.svm import SVC, LinearSVC\n",
        "from sklearn.ensemble import RandomForestClassifier\n",
        "from sklearn.tree import DecisionTreeClassifier"
      ],
      "metadata": {
        "id": "a8ib4S-qVNq_"
      },
      "execution_count": 19,
      "outputs": []
    },
    {
      "cell_type": "code",
      "source": [
        "train = pd.read_csv(\"/content/train.csv\")\n",
        "test = pd.read_csv(\"/content/test.csv\")"
      ],
      "metadata": {
        "id": "BF4VN2eIyzMM"
      },
      "execution_count": 20,
      "outputs": []
    },
    {
      "cell_type": "code",
      "source": [
        "def improved_preprocess(df):\n",
        "\n",
        "    df['Title'] = df['Name'].str.extract(' ([A-Za-z]+)\\.', expand=False)\n",
        "    df['Title'] = df['Title'].replace(['Mlle','Ms'],'Miss')\n",
        "    df['Title'] = df['Title'].replace(['Mme'],'Mrs')\n",
        "    rare_titles = df['Title'].value_counts()[df['Title'].value_counts() < 10].index\n",
        "    df['Title'] = df['Title'].replace(rare_titles, 'Rare')\n",
        "\n",
        "\n",
        "    df['Cabin'] = df['Cabin'].astype(str).str[0]\n",
        "    df['Cabin'] = df['Cabin'].replace(\"n\",\"U\")\n",
        "\n",
        "\n",
        "    df['FamilySize'] = df['SibSp'] + df['Parch'] + 1\n",
        "    df['IsAlone'] = (df['FamilySize'] == 1).astype(int)\n",
        "\n",
        "\n",
        "    df = df.drop(['PassengerId','Name','Ticket'], axis=1, errors='ignore')\n",
        "    return df\n",
        "\n",
        "train_imp = improved_preprocess(train.copy())\n",
        "X_imp = train_imp.drop(\"Survived\", axis=1)\n",
        "y_imp = train_imp[\"Survived\"]\n",
        "\n",
        "\n",
        "numeric_features = X_imp.select_dtypes(include=[np.number]).columns.tolist()\n",
        "categorical_features = X_imp.select_dtypes(exclude=[np.number]).columns.tolist()\n",
        "\n",
        "\n",
        "preprocessor = ColumnTransformer(\n",
        "    transformers=[\n",
        "        (\"num\", Pipeline([(\"imputer\", KNNImputer(n_neighbors=3)),\n",
        "                          (\"scaler\", StandardScaler())]), numeric_features),\n",
        "        (\"cat\", OneHotEncoder(handle_unknown=\"ignore\"), categorical_features)\n",
        "    ]\n",
        ")\n",
        "\n",
        "\n",
        "models = {\n",
        "    \"Support Vector Machines\": SVC(),\n",
        "    \"KNN\": KNeighborsClassifier(n_neighbors=3),\n",
        "    \"Logistic Regression\": LogisticRegression(max_iter=2000),\n",
        "    \"Random Forest\": RandomForestClassifier(n_estimators=100),\n",
        "    \"Naive Bayes\": GaussianNB(),\n",
        "    \"Perceptron\": Perceptron(max_iter=1000),\n",
        "    \"Stochastic Gradient Decent\": SGDClassifier(max_iter=1000, tol=1e-3),\n",
        "    \"Linear SVC\": LinearSVC(max_iter=2000),\n",
        "    \"Decision Tree\": DecisionTreeClassifier()\n",
        "}\n",
        "\n",
        "cv = StratifiedKFold(n_splits=5, shuffle=True, random_state=42)\n",
        "\n",
        "print(\"\\nQ2: Improved Preprocessing Accuracies\")\n",
        "for name, model in models.items():\n",
        "    pipe = Pipeline(steps=[(\"preprocessor\", preprocessor), (\"classifier\", model)])\n",
        "    scores = cross_val_score(pipe, X_imp, y_imp, cv=cv)\n",
        "    print(f\"{name}: {scores.mean():.4f} ± {scores.std():.4f}\")"
      ],
      "metadata": {
        "colab": {
          "base_uri": "https://localhost:8080/"
        },
        "id": "O9AnydlLy6Zb",
        "outputId": "463973ff-269f-4ac2-d125-56c0eff33155"
      },
      "execution_count": 22,
      "outputs": [
        {
          "output_type": "stream",
          "name": "stderr",
          "text": [
            "<>:3: SyntaxWarning: invalid escape sequence '\\.'\n",
            "<>:3: SyntaxWarning: invalid escape sequence '\\.'\n",
            "/tmp/ipython-input-2660507999.py:3: SyntaxWarning: invalid escape sequence '\\.'\n",
            "  df['Title'] = df['Name'].str.extract(' ([A-Za-z]+)\\.', expand=False)\n"
          ]
        },
        {
          "output_type": "stream",
          "name": "stdout",
          "text": [
            "\n",
            "Q2: Improved Preprocessing Accuracies\n",
            "Support Vector Machines: 0.8328 ± 0.0105\n",
            "KNN: 0.8126 ± 0.0223\n",
            "Logistic Regression: 0.8294 ± 0.0128\n",
            "Random Forest: 0.8114 ± 0.0248\n",
            "Naive Bayes: 0.7811 ± 0.0396\n",
            "Perceptron: 0.7834 ± 0.0198\n",
            "Stochastic Gradient Decent: 0.7811 ± 0.0178\n",
            "Linear SVC: 0.8283 ± 0.0122\n",
            "Decision Tree: 0.7710 ± 0.0331\n"
          ]
        }
      ]
    },
    {
      "cell_type": "code",
      "source": [],
      "metadata": {
        "id": "v9DibQEWztgR"
      },
      "execution_count": 21,
      "outputs": []
    }
  ]
}